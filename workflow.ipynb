{
 "cells": [
  {
   "cell_type": "code",
   "execution_count": 2,
   "id": "9f4e7f9c",
   "metadata": {},
   "outputs": [
    {
     "data": {
      "image/png": "[encoded data removed]",
      "text/plain": [
       "<IPython.core.display.Image object>"
      ]
     },
     "metadata": {},
     "output_type": "display_data"
    }
   ],
   "source": [
    "from IPython.display import Image, display\n",
    "from langchain_core.runnables.graph import MermaidDrawMethod\n",
    "# from  agents.supervisor import final_agent\n",
    "from main_agent import app\n",
    "\n",
    "display(\n",
    "    Image(\n",
    "        app.get_graph().draw_mermaid_png(\n",
    "            draw_method=MermaidDrawMethod.API\n",
    "        )\n",
    "    )\n",
    ")\n"
   ]
  },
  {
   "cell_type": "code",
   "execution_count": 1,
   "id": "b1a54dbb",
   "metadata": {},
   "outputs": [
    {
     "name": "stderr",
     "output_type": "stream",
     "text": [
      "d:\\FoodNest\\Agnet_supervisor\\agents\\trial.py:11: LangChainDeprecationWarning: The class `TavilySearchResults` was deprecated in LangChain 0.3.25 and will be removed in 1.0. An updated version of the class exists in the :class:`~langchain-tavily package and should be used instead. To use it run `pip install -U :class:`~langchain-tavily` and import as `from :class:`~langchain_tavily import TavilySearch``.\n",
      "  search_tool = TavilySearchResults()\n"
     ]
    },
    {
     "ename": "ValueError",
     "evalue": "Invalid reducer signature. Expected (a, b) -> c. Got (x)",
     "output_type": "error",
     "traceback": [
      "\u001b[31m---------------------------------------------------------------------------\u001b[39m",
      "\u001b[31mValueError\u001b[39m                                Traceback (most recent call last)",
      "\u001b[36mCell\u001b[39m\u001b[36m \u001b[39m\u001b[32mIn[1]\u001b[39m\u001b[32m, line 1\u001b[39m\n\u001b[32m----> \u001b[39m\u001b[32m1\u001b[39m \u001b[38;5;28;01mfrom\u001b[39;00m\u001b[38;5;250m \u001b[39m\u001b[34;01magents\u001b[39;00m\u001b[34;01m.\u001b[39;00m\u001b[34;01mtrial\u001b[39;00m\u001b[38;5;250m \u001b[39m\u001b[38;5;28;01mimport\u001b[39;00m graph\n\u001b[32m      2\u001b[39m display(\n\u001b[32m      3\u001b[39m     Image(\n\u001b[32m      4\u001b[39m         graph.get_graph().draw_mermaid_png(\n\u001b[32m   (...)\u001b[39m\u001b[32m      7\u001b[39m     )\n\u001b[32m      8\u001b[39m )\n",
      "\u001b[36mFile \u001b[39m\u001b[32md:\\FoodNest\\Agnet_supervisor\\agents\\trial.py:45\u001b[39m\n\u001b[32m     42\u001b[39m     \u001b[38;5;28;01mreturn\u001b[39;00m \u001b[33m\"\u001b[39m\u001b[33mllm\u001b[39m\u001b[33m\"\u001b[39m\n\u001b[32m     44\u001b[39m \u001b[38;5;66;03m# ----------- Build Graph -------------\u001b[39;00m\n\u001b[32m---> \u001b[39m\u001b[32m45\u001b[39m builder = \u001b[43mStateGraph\u001b[49m\u001b[43m(\u001b[49m\u001b[43mAgentState\u001b[49m\u001b[43m)\u001b[49m\n\u001b[32m     46\u001b[39m builder.add_node(\u001b[33m\"\u001b[39m\u001b[33mllm\u001b[39m\u001b[33m\"\u001b[39m, llm_node)\n\u001b[32m     47\u001b[39m builder.add_node(\u001b[33m\"\u001b[39m\u001b[33msearch\u001b[39m\u001b[33m\"\u001b[39m, search_node)\n",
      "\u001b[36mFile \u001b[39m\u001b[32mc:\\Users\\hp\\AppData\\Local\\Programs\\Python\\Python312\\Lib\\site-packages\\langgraph\\graph\\state.py:294\u001b[39m, in \u001b[36mStateGraph.__init__\u001b[39m\u001b[34m(self, state_schema, config_schema, input_schema, output_schema, **kwargs)\u001b[39m\n\u001b[32m    291\u001b[39m \u001b[38;5;28mself\u001b[39m.output_schema = cast(\u001b[38;5;28mtype\u001b[39m[OutputT], output_schema \u001b[38;5;129;01mor\u001b[39;00m state_schema)\n\u001b[32m    292\u001b[39m \u001b[38;5;28mself\u001b[39m.config_schema = config_schema\n\u001b[32m--> \u001b[39m\u001b[32m294\u001b[39m \u001b[38;5;28;43mself\u001b[39;49m\u001b[43m.\u001b[49m\u001b[43m_add_schema\u001b[49m\u001b[43m(\u001b[49m\u001b[38;5;28;43mself\u001b[39;49m\u001b[43m.\u001b[49m\u001b[43mstate_schema\u001b[49m\u001b[43m)\u001b[49m\n\u001b[32m    295\u001b[39m \u001b[38;5;28mself\u001b[39m._add_schema(\u001b[38;5;28mself\u001b[39m.input_schema, allow_managed=\u001b[38;5;28;01mFalse\u001b[39;00m)\n\u001b[32m    296\u001b[39m \u001b[38;5;28mself\u001b[39m._add_schema(\u001b[38;5;28mself\u001b[39m.output_schema, allow_managed=\u001b[38;5;28;01mFalse\u001b[39;00m)\n",
      "\u001b[36mFile \u001b[39m\u001b[32mc:\\Users\\hp\\AppData\\Local\\Programs\\Python\\Python312\\Lib\\site-packages\\langgraph\\graph\\state.py:307\u001b[39m, in \u001b[36mStateGraph._add_schema\u001b[39m\u001b[34m(self, schema, allow_managed)\u001b[39m\n\u001b[32m    305\u001b[39m \u001b[38;5;28;01mif\u001b[39;00m schema \u001b[38;5;129;01mnot\u001b[39;00m \u001b[38;5;129;01min\u001b[39;00m \u001b[38;5;28mself\u001b[39m.schemas:\n\u001b[32m    306\u001b[39m     _warn_invalid_state_schema(schema)\n\u001b[32m--> \u001b[39m\u001b[32m307\u001b[39m     channels, managed, type_hints = \u001b[43m_get_channels\u001b[49m\u001b[43m(\u001b[49m\u001b[43mschema\u001b[49m\u001b[43m)\u001b[49m\n\u001b[32m    308\u001b[39m     \u001b[38;5;28;01mif\u001b[39;00m managed \u001b[38;5;129;01mand\u001b[39;00m \u001b[38;5;129;01mnot\u001b[39;00m allow_managed:\n\u001b[32m    309\u001b[39m         names = \u001b[33m\"\u001b[39m\u001b[33m, \u001b[39m\u001b[33m\"\u001b[39m.join(managed)\n",
      "\u001b[36mFile \u001b[39m\u001b[32mc:\\Users\\hp\\AppData\\Local\\Programs\\Python\\Python312\\Lib\\site-packages\\langgraph\\graph\\state.py:1300\u001b[39m, in \u001b[36m_get_channels\u001b[39m\u001b[34m(schema)\u001b[39m\n\u001b[32m   1292\u001b[39m     \u001b[38;5;28;01mreturn\u001b[39;00m (\n\u001b[32m   1293\u001b[39m         {\u001b[33m\"\u001b[39m\u001b[33m__root__\u001b[39m\u001b[33m\"\u001b[39m: _get_channel(\u001b[33m\"\u001b[39m\u001b[33m__root__\u001b[39m\u001b[33m\"\u001b[39m, schema, allow_managed=\u001b[38;5;28;01mFalse\u001b[39;00m)},\n\u001b[32m   1294\u001b[39m         {},\n\u001b[32m   1295\u001b[39m         {},\n\u001b[32m   1296\u001b[39m     )\n\u001b[32m   1298\u001b[39m type_hints = get_type_hints(schema, include_extras=\u001b[38;5;28;01mTrue\u001b[39;00m)\n\u001b[32m   1299\u001b[39m all_keys = {\n\u001b[32m-> \u001b[39m\u001b[32m1300\u001b[39m     name: \u001b[43m_get_channel\u001b[49m\u001b[43m(\u001b[49m\u001b[43mname\u001b[49m\u001b[43m,\u001b[49m\u001b[43m \u001b[49m\u001b[43mtyp\u001b[49m\u001b[43m)\u001b[49m\n\u001b[32m   1301\u001b[39m     \u001b[38;5;28;01mfor\u001b[39;00m name, typ \u001b[38;5;129;01min\u001b[39;00m type_hints.items()\n\u001b[32m   1302\u001b[39m     \u001b[38;5;28;01mif\u001b[39;00m name != \u001b[33m\"\u001b[39m\u001b[33m__slots__\u001b[39m\u001b[33m\"\u001b[39m\n\u001b[32m   1303\u001b[39m }\n\u001b[32m   1304\u001b[39m \u001b[38;5;28;01mreturn\u001b[39;00m (\n\u001b[32m   1305\u001b[39m     {k: v \u001b[38;5;28;01mfor\u001b[39;00m k, v \u001b[38;5;129;01min\u001b[39;00m all_keys.items() \u001b[38;5;28;01mif\u001b[39;00m \u001b[38;5;28misinstance\u001b[39m(v, BaseChannel)},\n\u001b[32m   1306\u001b[39m     {k: v \u001b[38;5;28;01mfor\u001b[39;00m k, v \u001b[38;5;129;01min\u001b[39;00m all_keys.items() \u001b[38;5;28;01mif\u001b[39;00m is_managed_value(v)},\n\u001b[32m   1307\u001b[39m     type_hints,\n\u001b[32m   1308\u001b[39m )\n",
      "\u001b[36mFile \u001b[39m\u001b[32mc:\\Users\\hp\\AppData\\Local\\Programs\\Python\\Python312\\Lib\\site-packages\\langgraph\\graph\\state.py:1334\u001b[39m, in \u001b[36m_get_channel\u001b[39m\u001b[34m(name, annotation, allow_managed)\u001b[39m\n\u001b[32m   1332\u001b[39m     channel.key = name\n\u001b[32m   1333\u001b[39m     \u001b[38;5;28;01mreturn\u001b[39;00m channel\n\u001b[32m-> \u001b[39m\u001b[32m1334\u001b[39m \u001b[38;5;28;01melif\u001b[39;00m channel := \u001b[43m_is_field_binop\u001b[49m\u001b[43m(\u001b[49m\u001b[43mannotation\u001b[49m\u001b[43m)\u001b[49m:\n\u001b[32m   1335\u001b[39m     channel.key = name\n\u001b[32m   1336\u001b[39m     \u001b[38;5;28;01mreturn\u001b[39;00m channel\n",
      "\u001b[36mFile \u001b[39m\u001b[32mc:\\Users\\hp\\AppData\\Local\\Programs\\Python\\Python312\\Lib\\site-packages\\langgraph\\graph\\state.py:1368\u001b[39m, in \u001b[36m_is_field_binop\u001b[39m\u001b[34m(typ)\u001b[39m\n\u001b[32m   1366\u001b[39m             \u001b[38;5;28;01mreturn\u001b[39;00m BinaryOperatorAggregate(typ, meta[-\u001b[32m1\u001b[39m])\n\u001b[32m   1367\u001b[39m         \u001b[38;5;28;01melse\u001b[39;00m:\n\u001b[32m-> \u001b[39m\u001b[32m1368\u001b[39m             \u001b[38;5;28;01mraise\u001b[39;00m \u001b[38;5;167;01mValueError\u001b[39;00m(\n\u001b[32m   1369\u001b[39m                 \u001b[33mf\u001b[39m\u001b[33m\"\u001b[39m\u001b[33mInvalid reducer signature. Expected (a, b) -> c. Got \u001b[39m\u001b[38;5;132;01m{\u001b[39;00msig\u001b[38;5;132;01m}\u001b[39;00m\u001b[33m\"\u001b[39m\n\u001b[32m   1370\u001b[39m             )\n\u001b[32m   1371\u001b[39m \u001b[38;5;28;01mreturn\u001b[39;00m \u001b[38;5;28;01mNone\u001b[39;00m\n",
      "\u001b[31mValueError\u001b[39m: Invalid reducer signature. Expected (a, b) -> c. Got (x)"
     ]
    }
   ],
   "source": [
    "from agents.trial import graph\n",
    "display(\n",
    "    Image(\n",
    "        graph.get_graph().draw_mermaid_png(\n",
    "            draw_method=MermaidDrawMethod.API\n",
    "        )\n",
    "    )\n",
    ")"
   ]
  },
  {
   "cell_type": "code",
   "execution_count": null,
   "id": "09248430",
   "metadata": {},
   "outputs": [],
   "source": [
    "from new import LangGraphAgent\n",
    "agent = LangGraphAgent()\n",
    "display(\n",
    "    Image(\n",
    "        agent.graph.get_graph().draw_mermaid_png(\n",
    "            draw_method=MermaidDrawMethod.API\n",
    "        )\n",
    "    )\n",
    ")"
   ]
  },
  {
   "cell_type": "code",
   "execution_count": null,
   "id": "f2a2780c",
   "metadata": {},
   "outputs": [],
   "source": []
  }
 ],
 "metadata": {
  "kernelspec": {
   "display_name": "Python 3",
   "language": "python",
   "name": "python3"
  },
  "language_info": {
   "codemirror_mode": {
    "name": "ipython",
    "version": 3
   },
   "file_extension": ".py",
   "mimetype": "text/x-python",
   "name": "python",
   "nbconvert_exporter": "python",
   "pygments_lexer": "ipython3",
   "version": "3.12.1"
  }
 },
 "nbformat": 4,
 "nbformat_minor": 5
}
